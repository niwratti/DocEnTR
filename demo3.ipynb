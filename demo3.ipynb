{
  "cells": [
    {
      "cell_type": "markdown",
      "metadata": {
        "id": "view-in-github",
        "colab_type": "text"
      },
      "source": [
        "<a href=\"https://colab.research.google.com/github/niwratti/DocEnTR/blob/main/demo3.ipynb\" target=\"_parent\"><img src=\"https://colab.research.google.com/assets/colab-badge.svg\" alt=\"Open In Colab\"/></a>"
      ]
    },
    {
      "cell_type": "code",
      "source": [
        "pip install torch torchvision"
      ],
      "metadata": {
        "colab": {
          "base_uri": "https://localhost:8080/"
        },
        "id": "imw0pPKs2GOL",
        "outputId": "6ed95b0a-383c-4498-f36e-c94d22634760"
      },
      "execution_count": 114,
      "outputs": [
        {
          "output_type": "stream",
          "name": "stdout",
          "text": [
            "Looking in indexes: https://pypi.org/simple, https://us-python.pkg.dev/colab-wheels/public/simple/\n",
            "Requirement already satisfied: torch in /usr/local/lib/python3.8/dist-packages (1.13.1+cu116)\n",
            "Requirement already satisfied: torchvision in /usr/local/lib/python3.8/dist-packages (0.14.1+cu116)\n",
            "Requirement already satisfied: typing-extensions in /usr/local/lib/python3.8/dist-packages (from torch) (4.4.0)\n",
            "Requirement already satisfied: numpy in /usr/local/lib/python3.8/dist-packages (from torchvision) (1.21.6)\n",
            "Requirement already satisfied: requests in /usr/local/lib/python3.8/dist-packages (from torchvision) (2.25.1)\n",
            "Requirement already satisfied: pillow!=8.3.*,>=5.3.0 in /usr/local/lib/python3.8/dist-packages (from torchvision) (7.1.2)\n",
            "Requirement already satisfied: idna<3,>=2.5 in /usr/local/lib/python3.8/dist-packages (from requests->torchvision) (2.10)\n",
            "Requirement already satisfied: chardet<5,>=3.0.2 in /usr/local/lib/python3.8/dist-packages (from requests->torchvision) (4.0.0)\n",
            "Requirement already satisfied: certifi>=2017.4.17 in /usr/local/lib/python3.8/dist-packages (from requests->torchvision) (2022.12.7)\n",
            "Requirement already satisfied: urllib3<1.27,>=1.21.1 in /usr/local/lib/python3.8/dist-packages (from requests->torchvision) (1.24.3)\n"
          ]
        }
      ]
    },
    {
      "cell_type": "code",
      "source": [
        "pip install vit-pytorch"
      ],
      "metadata": {
        "colab": {
          "base_uri": "https://localhost:8080/"
        },
        "id": "p6p4Gq2-135b",
        "outputId": "a95f158f-0f78-43fb-e479-010ab2c4bd81"
      },
      "execution_count": 115,
      "outputs": [
        {
          "output_type": "stream",
          "name": "stdout",
          "text": [
            "Looking in indexes: https://pypi.org/simple, https://us-python.pkg.dev/colab-wheels/public/simple/\n",
            "Requirement already satisfied: vit-pytorch in /usr/local/lib/python3.8/dist-packages (0.40.2)\n",
            "Requirement already satisfied: einops>=0.6.0 in /usr/local/lib/python3.8/dist-packages (from vit-pytorch) (0.6.0)\n",
            "Requirement already satisfied: torchvision in /usr/local/lib/python3.8/dist-packages (from vit-pytorch) (0.14.1+cu116)\n",
            "Requirement already satisfied: torch>=1.10 in /usr/local/lib/python3.8/dist-packages (from vit-pytorch) (1.13.1+cu116)\n",
            "Requirement already satisfied: typing-extensions in /usr/local/lib/python3.8/dist-packages (from torch>=1.10->vit-pytorch) (4.4.0)\n",
            "Requirement already satisfied: pillow!=8.3.*,>=5.3.0 in /usr/local/lib/python3.8/dist-packages (from torchvision->vit-pytorch) (7.1.2)\n",
            "Requirement already satisfied: requests in /usr/local/lib/python3.8/dist-packages (from torchvision->vit-pytorch) (2.25.1)\n",
            "Requirement already satisfied: numpy in /usr/local/lib/python3.8/dist-packages (from torchvision->vit-pytorch) (1.21.6)\n",
            "Requirement already satisfied: chardet<5,>=3.0.2 in /usr/local/lib/python3.8/dist-packages (from requests->torchvision->vit-pytorch) (4.0.0)\n",
            "Requirement already satisfied: idna<3,>=2.5 in /usr/local/lib/python3.8/dist-packages (from requests->torchvision->vit-pytorch) (2.10)\n",
            "Requirement already satisfied: urllib3<1.27,>=1.21.1 in /usr/local/lib/python3.8/dist-packages (from requests->torchvision->vit-pytorch) (1.24.3)\n",
            "Requirement already satisfied: certifi>=2017.4.17 in /usr/local/lib/python3.8/dist-packages (from requests->torchvision->vit-pytorch) (2022.12.7)\n"
          ]
        }
      ]
    },
    {
      "cell_type": "code",
      "source": [
        "pip install pickle5"
      ],
      "metadata": {
        "colab": {
          "base_uri": "https://localhost:8080/"
        },
        "id": "Fz3WYKwF15Td",
        "outputId": "e793ba30-3668-4633-97be-0fe54760561c"
      },
      "execution_count": 116,
      "outputs": [
        {
          "output_type": "stream",
          "name": "stdout",
          "text": [
            "Looking in indexes: https://pypi.org/simple, https://us-python.pkg.dev/colab-wheels/public/simple/\n",
            "Requirement already satisfied: pickle5 in /usr/local/lib/python3.8/dist-packages (0.0.11)\n"
          ]
        }
      ]
    },
    {
      "cell_type": "code",
      "source": [
        "pip install vision_transformer_pytorch"
      ],
      "metadata": {
        "colab": {
          "base_uri": "https://localhost:8080/"
        },
        "id": "MOF91wbcT3sm",
        "outputId": "7777ce42-4db1-4dc3-9831-b956314e4704"
      },
      "execution_count": 117,
      "outputs": [
        {
          "output_type": "stream",
          "name": "stdout",
          "text": [
            "Looking in indexes: https://pypi.org/simple, https://us-python.pkg.dev/colab-wheels/public/simple/\n",
            "Requirement already satisfied: vision_transformer_pytorch in /usr/local/lib/python3.8/dist-packages (1.0.3)\n",
            "Requirement already satisfied: numpy in /usr/local/lib/python3.8/dist-packages (from vision_transformer_pytorch) (1.21.6)\n",
            "Requirement already satisfied: torch>=1.5.0 in /usr/local/lib/python3.8/dist-packages (from vision_transformer_pytorch) (1.13.1+cu116)\n",
            "Requirement already satisfied: typing-extensions in /usr/local/lib/python3.8/dist-packages (from torch>=1.5.0->vision_transformer_pytorch) (4.4.0)\n"
          ]
        }
      ]
    },
    {
      "cell_type": "code",
      "source": [
        "pip install opencv-python"
      ],
      "metadata": {
        "colab": {
          "base_uri": "https://localhost:8080/"
        },
        "id": "EBB3y7JNCnal",
        "outputId": "b31a81c1-be18-40d2-efa1-6fe6f45ee75d"
      },
      "execution_count": 118,
      "outputs": [
        {
          "output_type": "stream",
          "name": "stdout",
          "text": [
            "Looking in indexes: https://pypi.org/simple, https://us-python.pkg.dev/colab-wheels/public/simple/\n",
            "Requirement already satisfied: opencv-python in /usr/local/lib/python3.8/dist-packages (4.6.0.66)\n",
            "Requirement already satisfied: numpy>=1.17.3 in /usr/local/lib/python3.8/dist-packages (from opencv-python) (1.21.6)\n"
          ]
        }
      ]
    },
    {
      "cell_type": "code",
      "source": [
        "import torchvision.transforms.functional as TF\n",
        "from torchvision import transforms\n",
        "import torch.optim as optim\n",
        "import torch.utils.data as D\n",
        "from PIL import Image\n",
        "from tqdm import tqdm\n",
        "import numpy as np\n",
        "import os\n",
        "import random\n",
        "from vit_pytorch import ViT\n",
        "from einops import rearrange\n",
        "import cv2\n",
        "import matplotlib\n",
        "import math\n",
        "import argparse\n",
        "from torch import nn\n",
        "import torch.nn.functional as F\n",
        "from vit_pytorch.vit import Transformer\n",
        "import torch\n",
        "import pathlib\n",
        "import matplotlib.pyplot as plt\n"
      ],
      "metadata": {
        "id": "n5dmJ-2LUAEz"
      },
      "execution_count": 119,
      "outputs": []
    },
    {
      "cell_type": "markdown",
      "metadata": {
        "id": "agZ9zH1XTK4n"
      },
      "source": [
        "## Specify the configurations that you want to use to build your model\n",
        "\n",
        "Here, pick the desired configuration depending on the weights that you downloaded from our repository. The weights can be downloaded from; https://github.com/dali92002/DocEnTR in the Section Model Zoo."
      ]
    },
    {
      "cell_type": "code",
      "execution_count": 120,
      "metadata": {
        "id": "vo-Vm0FBTK4p"
      },
      "outputs": [],
      "source": [
        "THRESHOLD = 0.5 ## binarization threshold after the model output\n",
        "SPLITSIZE =  256  ## your image will be divided into patches of 256x256 pixels\n",
        "setting = \"base\"  ## choose the desired model size [small, base or large], depending on the model you want to use\n",
        "patch_size = 8 ## choose your desired patch size [8 or 16], depending on the model you want to use\n",
        "image_size =  (SPLITSIZE,SPLITSIZE)\n",
        "device = torch.device('cuda' if torch.cuda.is_available() else 'cpu')"
      ]
    },
    {
      "cell_type": "code",
      "execution_count": 121,
      "metadata": {
        "id": "2-IvuTarTK4q"
      },
      "outputs": [],
      "source": [
        "if setting == 'base':\n",
        "    encoder_layers = 6\n",
        "    encoder_heads = 8\n",
        "    encoder_dim = 768\n",
        "\n",
        "if setting == 'small':\n",
        "    encoder_layers = 3\n",
        "    encoder_heads = 4\n",
        "    encoder_dim = 512\n",
        "\n",
        "if setting == 'large':\n",
        "    encoder_layers = 12\n",
        "    encoder_heads = 16\n",
        "    encoder_dim = 1024"
      ]
    },
    {
      "cell_type": "code",
      "source": [
        "class BinModel(nn.Module):\n",
        "    \"\"\"\n",
        "    The autoencoder model to enhance images in an image to image translation fashion.\n",
        "    This code is built on top of the vit-pytorch code https://github.com/lucidrains/vit-pytorch.\n",
        "    Args:\n",
        "        encoder (model): the defined encoder, hete it is a ViT\n",
        "        decoder_dim (int): decoder dim (embedding size)\n",
        "        decoder_depth (int): number of decoder layers\n",
        "        decoder_heads (int): number of decoder heads\n",
        "        decoder_dim_head (int): decoder head dimension\n",
        "    \"\"\"\n",
        "    def __init__(\n",
        "        self,\n",
        "        *,\n",
        "        encoder,\n",
        "        decoder_dim,\n",
        "        decoder_depth = 1,\n",
        "        decoder_heads = 8,\n",
        "        decoder_dim_head = 64\n",
        "    ):\n",
        "        super().__init__()\n",
        "        # extract hyperparameters and functions from the ViT encoder.\n",
        "        self.encoder = encoder\n",
        "        num_patches, encoder_dim = encoder.pos_embedding.shape[-2:]\n",
        "        self.to_patch, self.patch_to_emb = encoder.to_patch_embedding[:2]\n",
        "        pixel_values_per_patch = self.patch_to_emb.weight.shape[-1]\n",
        "\n",
        "        # define your decoder here\n",
        "        self.enc_to_dec = nn.Linear(encoder_dim, decoder_dim) if encoder_dim != decoder_dim else nn.Identity()\n",
        "        self.mask_token = nn.Parameter(torch.randn(decoder_dim))\n",
        "        self.decoder = Transformer(dim = decoder_dim, depth = decoder_depth, heads = decoder_heads, dim_head = decoder_dim_head, mlp_dim = decoder_dim * 4)\n",
        "        self.decoder_pos_emb = nn.Embedding(num_patches, decoder_dim)\n",
        "        self.to_pixels = nn.Linear(decoder_dim, pixel_values_per_patch)\n",
        "\n",
        "    def forward(self, img, gt_img):\n",
        "        \n",
        "        # get patches and their number\n",
        "        patches = self.to_patch(img)\n",
        "        _, num_patches, *_ = patches.shape\n",
        "\n",
        "        # project pixel patches to tokens and add positions\n",
        "        tokens = self.patch_to_emb(patches)\n",
        "        tokens = tokens + self.encoder.pos_embedding[:, 1:(num_patches + 1)]\n",
        "\n",
        "        # encode tokens by the encoder\n",
        "        encoded_tokens = self.encoder.transformer(tokens)\n",
        "\n",
        "        # project encoder to decoder dimensions, if they are not equal.\n",
        "        decoder_tokens = self.enc_to_dec(encoded_tokens)\n",
        "\n",
        "        # decode tokens with decoder\n",
        "        decoded_tokens = self.decoder(decoder_tokens)\n",
        "\n",
        "        # project tokens to pixels\n",
        "        pred_pixel_values = self.to_pixels(decoded_tokens)\n",
        "\n",
        "        # calculate the loss with gt\n",
        "        gt_patches = self.to_patch(gt_img)\n",
        "        loss = F.mse_loss(pred_pixel_values, gt_patches)\n",
        "\n",
        "        return loss, patches, pred_pixel_values"
      ],
      "metadata": {
        "id": "LAqh6_fR4k5R"
      },
      "execution_count": 122,
      "outputs": []
    },
    {
      "cell_type": "markdown",
      "metadata": {
        "id": "bXXI0qQeTK4q"
      },
      "source": [
        "## Build your model\n",
        "Build the transformer autoencoder model"
      ]
    },
    {
      "cell_type": "code",
      "execution_count": 123,
      "metadata": {
        "id": "6QxdIQw7TK4r"
      },
      "outputs": [],
      "source": [
        "v = ViT(\n",
        "    image_size = image_size,\n",
        "    patch_size = patch_size,\n",
        "    num_classes = 1000,\n",
        "    dim = encoder_dim,\n",
        "    depth = encoder_layers,\n",
        "    heads = encoder_heads,\n",
        "    mlp_dim = 2048\n",
        ")\n",
        "model = BinModel(\n",
        "    encoder = v,\n",
        "    decoder_dim = encoder_dim,      \n",
        "    decoder_depth = encoder_layers,\n",
        "    decoder_heads = encoder_heads       \n",
        ")\n",
        "\n",
        "model = model.to(device)"
      ]
    },
    {
      "cell_type": "markdown",
      "metadata": {
        "id": "0vZUkMdbTK4s"
      },
      "source": [
        "## load the pretrained weights that were downloaded from our repo:\n",
        "Here, give the path of the downloaded weights and load them to use a trained model."
      ]
    },
    {
      "cell_type": "code",
      "source": [
        "model_path = r\"/content/best-model_8_2011base_256_8.pt\"\n",
        "model.load_state_dict(torch.load(model_path, map_location=device))"
      ],
      "metadata": {
        "colab": {
          "base_uri": "https://localhost:8080/"
        },
        "id": "SMgcElMXKMC0",
        "outputId": "33fad01c-f486-4410-e62a-1636ca9de027"
      },
      "execution_count": 124,
      "outputs": [
        {
          "output_type": "execute_result",
          "data": {
            "text/plain": [
              "<All keys matched successfully>"
            ]
          },
          "metadata": {},
          "execution_count": 124
        }
      ]
    },
    {
      "cell_type": "markdown",
      "metadata": {
        "id": "wG_QkXhhTK4t"
      },
      "source": [
        "## Read the degraded image\n",
        "\n",
        "Here specify the location of the degraded image that you want to clean. and then read it. We also can visualize it before cleaning. Here I have a folder named demo that contain two folders named degraded and cleaned, the degraded contain the degraded image and the cleaned will contain later the obtained results. But you can specify your own names of folders."
      ]
    },
    {
      "cell_type": "code",
      "execution_count": 134,
      "metadata": {
        "id": "MP33nr14TK4t"
      },
      "outputs": [],
      "source": [
        "deg_image = cv2.imread('/content/X00016469619.jpg',1) / 255"
      ]
    },
    {
      "cell_type": "code",
      "source": [
        "print(deg_image.shape)"
      ],
      "metadata": {
        "colab": {
          "base_uri": "https://localhost:8080/"
        },
        "id": "-fCi8YawQmHd",
        "outputId": "5de9c9c9-bf4c-431b-abb6-46d0dc7fd2aa"
      },
      "execution_count": 135,
      "outputs": [
        {
          "output_type": "stream",
          "name": "stdout",
          "text": [
            "(1004, 439, 3)\n"
          ]
        }
      ]
    },
    {
      "cell_type": "code",
      "source": [
        "plt.imshow(deg_image)"
      ],
      "metadata": {
        "colab": {
          "base_uri": "https://localhost:8080/",
          "height": 286
        },
        "id": "PW0H0VAulmvW",
        "outputId": "eb388457-7fa6-4507-fcd7-6f86a933a88e"
      },
      "execution_count": 136,
      "outputs": [
        {
          "output_type": "execute_result",
          "data": {
            "text/plain": [
              "<matplotlib.image.AxesImage at 0x7f40ab543df0>"
            ]
          },
          "metadata": {},
          "execution_count": 136
        },
        {
          "output_type": "display_data",
          "data": {
            "text/plain": [
              "<Figure size 432x288 with 1 Axes>"
            ],
            "image/png": "[encoded data removed]"
          },
          "metadata": {
            "needs_background": "light"
          }
        }
      ]
    },
    {
      "cell_type": "markdown",
      "metadata": {
        "id": "-qwgurL6TK4u"
      },
      "source": [
        "## Split and Merge functions\n",
        "\n",
        "Here, two function that are used for splitting an image into patches and merge a list of patches into an image. "
      ]
    },
    {
      "cell_type": "code",
      "execution_count": 156,
      "metadata": {
        "id": "f-RMBxQATK4v"
      },
      "outputs": [],
      "source": [
        "def split(im,h,w):\n",
        "    patches=[]\n",
        "    nsize1=SPLITSIZE\n",
        "    nsize2=SPLITSIZE\n",
        "    for ii in range(0,h,nsize1): #2048\n",
        "        for iii in range(0,w,nsize2): #1536\n",
        "            patches.append(im[ii:ii+nsize1,iii:iii+nsize2,:])\n",
        "    \n",
        "    return patches \n",
        "\n",
        "def merge_image(splitted_images, h,w):\n",
        "    image=np.zeros(((h,w,3)))\n",
        "    nsize1=SPLITSIZE\n",
        "    nsize2=SPLITSIZE\n",
        "    ind =0\n",
        "    for ii in range(0,h,nsize1):\n",
        "        for iii in range(0,w,nsize2):\n",
        "            image[ii:ii+nsize1,iii:iii+nsize2,:]=splitted_images[ind]\n",
        "            ind += 1\n",
        "    return image  \n"
      ]
    },
    {
      "cell_type": "markdown",
      "metadata": {
        "id": "DDKQ2CPiTK4v"
      },
      "source": [
        "## Preprocess the Image\n",
        "\n",
        "Preprocess the image by dividing it into patches and get them ready to be used by the model"
      ]
    },
    {
      "cell_type": "code",
      "execution_count": 157,
      "metadata": {
        "id": "awoXuyuaTK4v"
      },
      "outputs": [],
      "source": [
        "## Split the image intop patches, an image is padded first to make it dividable by the split size\n",
        "h =  ((deg_image.shape[0] // 256) +1)*256 \n",
        "w =  ((deg_image.shape[1] // 256 ) +1)*256\n",
        "deg_image_padded=np.ones((h,w,3))\n",
        "deg_image_padded[:deg_image.shape[0],:deg_image.shape[1],:]= deg_image\n",
        "patches = split(deg_image_padded, deg_image.shape[0], deg_image.shape[1])"
      ]
    },
    {
      "cell_type": "code",
      "execution_count": 158,
      "metadata": {
        "id": "laaJBh5STK4w"
      },
      "outputs": [],
      "source": [
        "## preprocess the patches (images)\n",
        "mean = [0.485, 0.456, 0.406]\n",
        "std = [0.229, 0.224, 0.225]\n",
        "\n",
        "out_patches=[]\n",
        "for p in patches:\n",
        "    out_patch = np.zeros([3, *p.shape[:-1]])\n",
        "    for i in range(3):\n",
        "        out_patch[i] = (p[:,:,i] - mean[i]) / std[i]\n",
        "    out_patches.append(out_patch)"
      ]
    },
    {
      "cell_type": "markdown",
      "metadata": {
        "id": "RbnHLhBPTK4w"
      },
      "source": [
        "## Clean your image with the trained model\n",
        "\n",
        "Clean your list of patches obe by one."
      ]
    },
    {
      "cell_type": "code",
      "execution_count": 159,
      "metadata": {
        "colab": {
          "base_uri": "https://localhost:8080/"
        },
        "id": "tTr2FHadTK4x",
        "outputId": "4edcf9c3-98fe-4a97-f976-05bc7e66d5db"
      },
      "outputs": [
        {
          "output_type": "stream",
          "name": "stdout",
          "text": [
            "(0 / 7) processing patch...\n",
            "(1 / 7) processing patch...\n",
            "(2 / 7) processing patch...\n",
            "(3 / 7) processing patch...\n",
            "(4 / 7) processing patch...\n",
            "(5 / 7) processing patch...\n",
            "(6 / 7) processing patch...\n",
            "(7 / 7) processing patch...\n"
          ]
        }
      ],
      "source": [
        "result = []\n",
        "for patch_idx, p in enumerate(out_patches):\n",
        "    print(f\"({patch_idx} / {len(out_patches) - 1}) processing patch...\")\n",
        "    p = np.array(p, dtype='float32')\n",
        "    train_in = torch.from_numpy(p)\n",
        "\n",
        "    with torch.no_grad():\n",
        "        train_in = train_in.view(1,3,SPLITSIZE,SPLITSIZE).to(device)\n",
        "        _ = torch.rand((train_in.shape)).to(device)\n",
        "        loss,_, pred_pixel_values = model(train_in,_)\n",
        "        rec_patches = pred_pixel_values\n",
        "        rec_image = torch.squeeze(rearrange(rec_patches, 'b (h w) (p1 p2 c) -> b c (h p1) (w p2)', p1 = patch_size, p2 = patch_size,  h=image_size[0]//patch_size))\n",
        "        impred = rec_image.cpu().numpy()\n",
        "        impred = np.transpose(impred, (1, 2, 0))\n",
        "        for ch in range(3):\n",
        "            impred[:,:,ch] = (impred[:,:,ch] *std[ch]) + mean[ch]\n",
        "        impred[np.where(impred>1)] = 1\n",
        "        impred[np.where(impred<0)] = 0\n",
        "    result.append(impred)"
      ]
    },
    {
      "cell_type": "markdown",
      "metadata": {
        "id": "NlUzjEw6TK4y"
      },
      "source": [
        "## Get your cleaned image and save it\n",
        "\n",
        "After cleaning the list of patches you can now merge them again to an image ang get it back to it original size by removing the padding. Here you can also vizualize your image before saving it into your desired folder."
      ]
    },
    {
      "cell_type": "code",
      "execution_count": 160,
      "metadata": {
        "colab": {
          "base_uri": "https://localhost:8080/",
          "height": 286
        },
        "id": "-oK1R5sITK4y",
        "outputId": "5a82a69d-e0bd-4ad5-a752-4c77565fbcb2"
      },
      "outputs": [
        {
          "output_type": "execute_result",
          "data": {
            "text/plain": [
              "<matplotlib.image.AxesImage at 0x7f40aa375bb0>"
            ]
          },
          "metadata": {},
          "execution_count": 160
        },
        {
          "output_type": "display_data",
          "data": {
            "text/plain": [
              "<Figure size 432x288 with 1 Axes>"
            ],
            "image/png": "[encoded data removed]"
          },
          "metadata": {
            "needs_background": "light"
          }
        }
      ],
      "source": [
        "clean_image = merge_image(result, deg_image_padded.shape[0], deg_image_padded.shape[1])\n",
        "clean_image = clean_image[:deg_image.shape[0], :deg_image.shape[1],:]\n",
        "clean_image = (clean_image>THRESHOLD)*255\n",
        "plt.imshow(clean_image)"
      ]
    },
    {
      "cell_type": "code",
      "execution_count": 161,
      "metadata": {
        "colab": {
          "base_uri": "https://localhost:8080/"
        },
        "id": "f93Wz_KRTK4y",
        "outputId": "890e8897-a919-4986-d26b-920bf88663d4"
      },
      "outputs": [
        {
          "output_type": "stream",
          "name": "stdout",
          "text": [
            "created file: C:\\Users\\niwra\\Desktop\\MSProgram\\experimentdataset\\exp1cleanimages/X00016469619__best-model_8_2011base_256_8.jpg\n"
          ]
        }
      ],
      "source": [
        "output_dir = pathlib.Path(r'C:\\Users\\niwra\\Desktop\\MSProgram\\experimentdataset\\exp1cleanimages')\n",
        "output_dir.mkdir(exist_ok=True)\n",
        "\n",
        "model_name = pathlib.Path(model_path).stem\n",
        "image_path = pathlib.Path('/content/X00016469619.jpg')\n",
        "output_path = output_dir.joinpath(f'{image_path.stem}__{model_name}{image_path.suffix}')\n",
        "\n",
        "cv2.imwrite(str(output_path), clean_image)\n",
        "print(f'created file: {output_path}')"
      ]
    }
  ],
  "metadata": {
    "interpreter": {
      "hash": "6d9f0b2f7ce66eb0711cec7c8aaa7059f0173343c6ccde03c0c9a786f97f4034"
    },
    "kernelspec": {
      "display_name": "Python 3 (ipykernel)",
      "language": "python",
      "name": "python3"
    },
    "language_info": {
      "codemirror_mode": {
        "name": "ipython",
        "version": 3
      },
      "file_extension": ".py",
      "mimetype": "text/x-python",
      "name": "python",
      "nbconvert_exporter": "python",
      "pygments_lexer": "ipython3",
      "version": "3.7.11"
    },
    "colab": {
      "provenance": [],
      "include_colab_link": true
    }
  },
  "nbformat": 4,
  "nbformat_minor": 0
}